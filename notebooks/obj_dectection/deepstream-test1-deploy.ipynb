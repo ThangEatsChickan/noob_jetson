{
 "cells": [
  {
   "cell_type": "code",
   "execution_count": 1,
   "id": "e60b2527-ac50-4afc-a4d6-983097e0bc6c",
   "metadata": {},
   "outputs": [
    {
     "name": "stdout",
     "output_type": "stream",
     "text": [
      "ls: cannot access '/opt/nvidia/deepstream/deepstream/sources/deepstream_python_apps/apps': No such file or directory\n",
      "ls: cannot access '/opt/nvidia/deepstream/deepstream/samples/streams': No such file or directory\n"
     ]
    }
   ],
   "source": [
    "# Running sample app deepstream-test1\n",
    "# /opt/nvidia/deepstream/deepstream/sources/apps/sample_apps/deepstream-test1 on the jetson\n",
    "\n",
    "PYTHON_APPS = \"/opt/nvidia/deepstream/deepstream/sources/deepstream_python_apps/apps\"\n",
    "STREAMS = \"/opt/nvidia/deepstream/deepstream/samples/streams\"\n",
    "!ls $PYTHON_APPS\n",
    "!ls $STREAMS"
   ]
  },
  {
   "cell_type": "code",
   "execution_count": null,
   "id": "236098d5-99b7-4e3e-b176-437c527c17b0",
   "metadata": {},
   "outputs": [],
   "source": [
    "# Check usage\n",
    "!cd $PYTHON_APPS/deepstream-test1-rtsp-out \\ && python3 deepstream_test1_rtsp_out.py --help"
   ]
  },
  {
   "cell_type": "code",
   "execution_count": null,
   "id": "710147eb-3c12-43af-abf9-7878e508d6fa",
   "metadata": {},
   "outputs": [],
   "source": [
    "# Run the inference\n",
    "!cd $PYTHON_APPS/deepstream-test1-rtsp-out && python3 deepstream_test1_rtsp_out.py -i $STREAMS/sample_720p.h264"
   ]
  }
 ],
 "metadata": {
  "kernelspec": {
   "display_name": "Python 3 (ipykernel)",
   "language": "python",
   "name": "python3"
  },
  "language_info": {
   "codemirror_mode": {
    "name": "ipython",
    "version": 3
   },
   "file_extension": ".py",
   "mimetype": "text/x-python",
   "name": "python",
   "nbconvert_exporter": "python",
   "pygments_lexer": "ipython3",
   "version": "3.8.10"
  }
 },
 "nbformat": 4,
 "nbformat_minor": 5
}
