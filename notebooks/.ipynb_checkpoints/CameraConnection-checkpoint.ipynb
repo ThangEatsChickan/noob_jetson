{
 "cells": [
  {
   "cell_type": "code",
   "execution_count": null,
   "id": "cb133211-2543-4917-9208-a8f7cc3662be",
   "metadata": {},
   "outputs": [],
   "source": [
    "# Check for camera connection\n",
    "# -l flag prints in long format\n",
    "# -t flag sorts newest connection first\n",
    "# -r flag reverse sort (so newest probaly printed last)\n",
    "# -h flag prints size in human readable format\n",
    "ls -ltrh /dev/video*"
   ]
  },
  {
   "cell_type": "code",
   "execution_count": null,
   "id": "d6b814f5-b1e0-4119-85d0-21704f1c44f6",
   "metadata": {},
   "outputs": [],
   "source": [
    "# Creating acamera object\n",
    "# https://github.com/NVIDIA-AI-IOT/jetcam\n",
    "from jetcam.usb_camera import USBCamera\n",
    "\n",
    "IMG_W = 224\n",
    "IMG_H = 224\n",
    "CAPTURE_W = 640\n",
    "CAPTURE_H = 480\n",
    "CAPTURE_DEVICE = 0\n",
    "camera = USBCamera(IMG_W, IMG_H, CAPTURE_W, CAPTURE_H, CAPTURE_DEVICE)"
   ]
  },
  {
   "cell_type": "code",
   "execution_count": null,
   "id": "d51bde21-a086-432a-a479-d9871d94b289",
   "metadata": {},
   "outputs": [],
   "source": [
    "# Create widget to view captured image captured\n",
    "# https://ipython.org/ipython-doc/3/api/generated/IPython.display.html#module-IPython.display\n",
    "\n",
    "import ipywidgets\n",
    "from IPython.display import display\n",
    "from jetcam.utils import bgr8_to_jpeg\n",
    "\n",
    "# Static image\n",
    "image = camera.read()\n",
    "image_widget = ipywidgets.Image(format='jpeg')\n",
    "image_widget.value = bgr8_to_jpeg(image)\n",
    "display(image_widget)\n",
    "\n",
    "# \"Video\" 1\n",
    "def update_image_callback(change):\n",
    "    image = change['new']\n",
    "    image_widget.value = bgr8_to_jpeg(image)\n",
    "\n",
    "camera.running = True\n",
    "camera.observe(update_image_callback, names='value')\n",
    "camera.unobserve(update_image_callback, names='value') # Stop video\n",
    "\n",
    "# \"Video\" 2\n",
    "# https://traitlets.readthedocs.io/en/stable/utils.html#links\n",
    "\n",
    "import traitlets\n",
    "camera_link = traitlets.dlink((camera, 'value'), (image_widget, 'value'), transform=bgr8_to_jpeg)\n",
    "camera_link.unlink() # Stop video\n",
    "camera_link.link() # Resume"
   ]
  },
  {
   "cell_type": "code",
   "execution_count": null,
   "id": "5c429718-e518-4875-9b77-ed8b2b3a311f",
   "metadata": {},
   "outputs": [],
   "source": [
    "# Shutdown camera before using it elsewhere\n",
    "# USB cameras shutdown with the notebook kernel\n",
    "import os\n",
    "os.exit(00)"
   ]
  }
 ],
 "metadata": {
  "kernelspec": {
   "display_name": "Python 3 (ipykernel)",
   "language": "python",
   "name": "python3"
  },
  "language_info": {
   "codemirror_mode": {
    "name": "ipython",
    "version": 3
   },
   "file_extension": ".py",
   "mimetype": "text/x-python",
   "name": "python",
   "nbconvert_exporter": "python",
   "pygments_lexer": "ipython3",
   "version": "3.8.10"
  }
 },
 "nbformat": 4,
 "nbformat_minor": 5
}
